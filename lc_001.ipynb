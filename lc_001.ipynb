{
  "nbformat": 4,
  "nbformat_minor": 0,
  "metadata": {
    "colab": {
      "provenance": [],
      "authorship_tag": "ABX9TyP2H1jvFA7/tnuYQ06IJq2T",
      "include_colab_link": true
    },
    "kernelspec": {
      "name": "python3",
      "display_name": "Python 3"
    },
    "language_info": {
      "name": "python"
    }
  },
  "cells": [
    {
      "cell_type": "markdown",
      "metadata": {
        "id": "view-in-github",
        "colab_type": "text"
      },
      "source": [
        "<a href=\"https://colab.research.google.com/github/rajeevradnair/dsa/blob/main/lc_001.ipynb\" target=\"_parent\"><img src=\"https://colab.research.google.com/assets/colab-badge.svg\" alt=\"Open In Colab\"/></a>"
      ]
    },
    {
      "cell_type": "code",
      "execution_count": null,
      "metadata": {
        "colab": {
          "base_uri": "https://localhost:8080/"
        },
        "id": "3S9E8N90JKaR",
        "outputId": "07cd00a1-cbfc-43e8-b4b0-3038d02cdef8"
      },
      "outputs": [
        {
          "output_type": "execute_result",
          "data": {
            "text/plain": [
              "False"
            ]
          },
          "metadata": {},
          "execution_count": 18
        }
      ],
      "source": [
        "def palindrome(s:str) -> bool:\n",
        "  left,right=0,len(s)-1\n",
        "  while left<right:\n",
        "    if (s[left]!=s[right]):\n",
        "      return False\n",
        "    left+=1\n",
        "    right-=1\n",
        "  return True\n",
        "\n",
        "palindrome(\"sallaas\")\n"
      ]
    },
    {
      "cell_type": "code",
      "source": [
        "def checkForTarget(nums, target) -> bool:\n",
        "  left, right=0,len(nums)-1\n",
        "  while left<right:\n",
        "    inter=nums[left] + nums[right]\n",
        "    if inter==target:\n",
        "      return True\n",
        "    if inter>target:\n",
        "      right-=1\n",
        "    left+=1\n",
        "  return False\n",
        "\n",
        "checkForTarget([1, 2, 4, 6, 8, 9, 14, 15],13)\n"
      ],
      "metadata": {
        "colab": {
          "base_uri": "https://localhost:8080/"
        },
        "id": "uD7d_OKJLPgk",
        "outputId": "9354f868-f510-461d-e9ed-10cf3f47e838"
      },
      "execution_count": null,
      "outputs": [
        {
          "output_type": "execute_result",
          "data": {
            "text/plain": [
              "True"
            ]
          },
          "metadata": {},
          "execution_count": 15
        }
      ]
    },
    {
      "cell_type": "code",
      "source": [
        "def mergeSortedArrays(arr1:list, arr2:list)->list:\n",
        "  i=j=0\n",
        "  target=[]\n",
        "  while (i<len(arr1) and j<len(arr2)):\n",
        "    if (arr1[i] <= arr2[j]):\n",
        "      target.append(arr1[i])\n",
        "      i+=1\n",
        "    else:\n",
        "      target.append(arr2[j])\n",
        "      j+=1\n",
        "  while (i<len(arr1)):\n",
        "    target.append(arr1[i])\n",
        "    i+=1\n",
        "  while (j<len(arr2)):\n",
        "    target.append(arr2[j])\n",
        "    j+=1\n",
        "\n",
        "  return target\n",
        "\n",
        "\n",
        "mergeSortedArrays([11,12,17],[2,9])"
      ],
      "metadata": {
        "colab": {
          "base_uri": "https://localhost:8080/"
        },
        "id": "D5nqTBsQOPKf",
        "outputId": "fd147c1f-4abb-41be-b565-2483b89a5144"
      },
      "execution_count": null,
      "outputs": [
        {
          "output_type": "execute_result",
          "data": {
            "text/plain": [
              "[2, 9, 11, 12, 17]"
            ]
          },
          "metadata": {},
          "execution_count": 27
        }
      ]
    },
    {
      "cell_type": "code",
      "source": [
        "def isSubsequence(s,t):\n",
        "  si=ti=0\n",
        "  while (ti<len(t) and si<(len(s))):\n",
        "    if t[ti]==s[si]:\n",
        "      si+=1\n",
        "    ti+=1\n",
        "  return si==len(s)\n",
        "\n",
        "isSubsequence(\"tom\",\"h\")"
      ],
      "metadata": {
        "colab": {
          "base_uri": "https://localhost:8080/"
        },
        "id": "qiY0kcfiQGzA",
        "outputId": "a197c2d1-57d7-489b-c7c2-120ff804a422"
      },
      "execution_count": null,
      "outputs": [
        {
          "output_type": "execute_result",
          "data": {
            "text/plain": [
              "False"
            ]
          },
          "metadata": {},
          "execution_count": 43
        }
      ]
    },
    {
      "cell_type": "code",
      "source": [
        "def reverseString(s):\n",
        "  left, right=0, len(s)-1\n",
        "  while (left < right):\n",
        "    t=s[left]\n",
        "    s[left]=s[right]\n",
        "    s[right]=t\n",
        "    left+=1\n",
        "    right-=1\n",
        "  return s\n",
        "\n",
        "reverseString(['i'])"
      ],
      "metadata": {
        "colab": {
          "base_uri": "https://localhost:8080/"
        },
        "id": "g3_3LmAtTcpj",
        "outputId": "0c08b7df-c91d-4661-9718-675d83b61bd1"
      },
      "execution_count": null,
      "outputs": [
        {
          "output_type": "execute_result",
          "data": {
            "text/plain": [
              "['i']"
            ]
          },
          "metadata": {},
          "execution_count": 48
        }
      ]
    },
    {
      "cell_type": "code",
      "source": [
        "def squareSort(arr):\n",
        "  left,right=0,len(arr)-1\n",
        "  ans=[]\n",
        "  while (left<=right):\n",
        "    if arr[left]*arr[left] > arr[right]*arr[right]:\n",
        "      ans.append(arr[left]*arr[left])\n",
        "      left+=1\n",
        "    else:\n",
        "      ans.append(arr[right]*arr[right])\n",
        "      right-=1\n",
        "  print(ans[::-1])\n",
        "\n",
        "squareSort([-4,-1,0,3,10])"
      ],
      "metadata": {
        "colab": {
          "base_uri": "https://localhost:8080/"
        },
        "id": "PAZsWh2JYGcj",
        "outputId": "df24e6a0-388e-46d9-d114-a075ce3a495b"
      },
      "execution_count": null,
      "outputs": [
        {
          "output_type": "stream",
          "name": "stdout",
          "text": [
            "[0, 1, 9, 16, 100]\n"
          ]
        }
      ]
    },
    {
      "cell_type": "code",
      "source": [
        "def findLongestSubarrayWithSumLETarget(nums, target):\n",
        "  left=right=0\n",
        "  sum=nums[left]\n",
        "  longestLength=0\n",
        "  longestleftIndex=left\n",
        "  #print(left, sum, longestLength, longestleftIndex)\n",
        "  while(left <= right) and(right<len(nums)):\n",
        "    if sum<=target:\n",
        "      print(sum, \"valid\")\n",
        "      if (right-left+1)>longestLength:\n",
        "        longestLength=right-left+1\n",
        "        longestleftIndex=left\n",
        "        print(\"new longest length =\", longestLength)\n",
        "      right +=1\n",
        "      if right < len(nums):\n",
        "        sum+=nums[right]\n",
        "    else:\n",
        "      print(sum, \"invalid\")\n",
        "      sum-=nums[left]\n",
        "      left+=1\n",
        "  print(\"=>\", longestleftIndex, longestLength)\n",
        "\n",
        "#findLongestSubarrayWithSumLETarget([3, 1, 2, 7, 4, 2, 1, 1, 5], 8)\n",
        "findLongestSubarrayWithSumLETarget([1,1,1,1,3,8], 7)"
      ],
      "metadata": {
        "colab": {
          "base_uri": "https://localhost:8080/"
        },
        "id": "tMUq6A7mvHMe",
        "outputId": "c3c8b3d8-edd1-4440-bde5-85461cae42dc"
      },
      "execution_count": null,
      "outputs": [
        {
          "output_type": "stream",
          "name": "stdout",
          "text": [
            "1 valid\n",
            "new longest length = 1\n",
            "2 valid\n",
            "new longest length = 2\n",
            "3 valid\n",
            "new longest length = 3\n",
            "4 valid\n",
            "new longest length = 4\n",
            "7 valid\n",
            "new longest length = 5\n",
            "15 invalid\n",
            "14 invalid\n",
            "13 invalid\n",
            "12 invalid\n",
            "11 invalid\n",
            "8 invalid\n",
            "=> 0 5\n"
          ]
        }
      ]
    },
    {
      "cell_type": "code",
      "source": [
        "def findLengthOfLongestSubstringWithAtmostOne0(s):\n",
        "  left = zeroes = ans = 0\n",
        "  for right in range(len(s)):\n",
        "    if s[right]==\"0\":\n",
        "      zeroes+=1\n",
        "    while zeroes > 1:\n",
        "      if s[left]==\"0\":\n",
        "        zeroes-=1\n",
        "      left+=1\n",
        "    ans=max(ans, right-left+1)\n",
        "  return ans\n",
        "\n",
        "findLengthOfLongestSubstringWithAtmostOne0(\"110110001\")"
      ],
      "metadata": {
        "colab": {
          "base_uri": "https://localhost:8080/"
        },
        "id": "OvLFmZXffqIu",
        "outputId": "cbe60d0c-ee55-4b78-d801-a983d9692aaa"
      },
      "execution_count": null,
      "outputs": [
        {
          "output_type": "execute_result",
          "data": {
            "text/plain": [
              "5"
            ]
          },
          "metadata": {},
          "execution_count": 2
        }
      ]
    },
    {
      "cell_type": "code",
      "source": [],
      "metadata": {
        "id": "s5OpKI1-yatH"
      },
      "execution_count": null,
      "outputs": []
    }
  ]
}