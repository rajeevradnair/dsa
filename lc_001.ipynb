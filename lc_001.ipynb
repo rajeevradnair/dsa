{
  "nbformat": 4,
  "nbformat_minor": 0,
  "metadata": {
    "colab": {
      "provenance": [],
      "authorship_tag": "ABX9TyPqimOblMolI8GAvTA6YQsA",
      "include_colab_link": true
    },
    "kernelspec": {
      "name": "python3",
      "display_name": "Python 3"
    },
    "language_info": {
      "name": "python"
    }
  },
  "cells": [
    {
      "cell_type": "markdown",
      "metadata": {
        "id": "view-in-github",
        "colab_type": "text"
      },
      "source": [
        "<a href=\"https://colab.research.google.com/github/rajeevradnair/dsa/blob/main/lc_001.ipynb\" target=\"_parent\"><img src=\"https://colab.research.google.com/assets/colab-badge.svg\" alt=\"Open In Colab\"/></a>"
      ]
    },
    {
      "cell_type": "code",
      "execution_count": null,
      "metadata": {
        "colab": {
          "base_uri": "https://localhost:8080/"
        },
        "id": "3S9E8N90JKaR",
        "outputId": "07cd00a1-cbfc-43e8-b4b0-3038d02cdef8"
      },
      "outputs": [
        {
          "output_type": "execute_result",
          "data": {
            "text/plain": [
              "False"
            ]
          },
          "metadata": {},
          "execution_count": 18
        }
      ],
      "source": [
        "def palindrome(s:str) -> bool:\n",
        "  left,right=0,len(s)-1\n",
        "  while left<right:\n",
        "    if (s[left]!=s[right]):\n",
        "      return False\n",
        "    left+=1\n",
        "    right-=1\n",
        "  return True\n",
        "\n",
        "palindrome(\"sallaas\")\n"
      ]
    },
    {
      "cell_type": "code",
      "source": [
        "def checkForTarget(nums, target) -> bool:\n",
        "  left, right=0,len(nums)-1\n",
        "  while left<right:\n",
        "    inter=nums[left] + nums[right]\n",
        "    if inter==target:\n",
        "      return True\n",
        "    if inter>target:\n",
        "      right-=1\n",
        "    left+=1\n",
        "  return False\n",
        "\n",
        "checkForTarget([1, 2, 4, 6, 8, 9, 14, 15],13)\n"
      ],
      "metadata": {
        "colab": {
          "base_uri": "https://localhost:8080/"
        },
        "id": "uD7d_OKJLPgk",
        "outputId": "9354f868-f510-461d-e9ed-10cf3f47e838"
      },
      "execution_count": null,
      "outputs": [
        {
          "output_type": "execute_result",
          "data": {
            "text/plain": [
              "True"
            ]
          },
          "metadata": {},
          "execution_count": 15
        }
      ]
    },
    {
      "cell_type": "code",
      "source": [
        "def mergeSortedArrays(arr1:list, arr2:list)->list:\n",
        "  i=j=0\n",
        "  target=[]\n",
        "  while (i<len(arr1) and j<len(arr2)):\n",
        "    if (arr1[i] <= arr2[j]):\n",
        "      target.append(arr1[i])\n",
        "      i+=1\n",
        "    else:\n",
        "      target.append(arr2[j])\n",
        "      j+=1\n",
        "  while (i<len(arr1)):\n",
        "    target.append(arr1[i])\n",
        "    i+=1\n",
        "  while (j<len(arr2)):\n",
        "    target.append(arr2[j])\n",
        "    j+=1\n",
        "\n",
        "  return target\n",
        "\n",
        "\n",
        "mergeSortedArrays([11,12,17],[2,9])"
      ],
      "metadata": {
        "colab": {
          "base_uri": "https://localhost:8080/"
        },
        "id": "D5nqTBsQOPKf",
        "outputId": "fd147c1f-4abb-41be-b565-2483b89a5144"
      },
      "execution_count": null,
      "outputs": [
        {
          "output_type": "execute_result",
          "data": {
            "text/plain": [
              "[2, 9, 11, 12, 17]"
            ]
          },
          "metadata": {},
          "execution_count": 27
        }
      ]
    },
    {
      "cell_type": "code",
      "source": [
        "def isSubsequence(s,t):\n",
        "  si=ti=0\n",
        "  while (ti<len(t) and si<(len(s))):\n",
        "    if t[ti]==s[si]:\n",
        "      si+=1\n",
        "    ti+=1\n",
        "  return si==len(s)\n",
        "\n",
        "isSubsequence(\"tom\",\"h\")"
      ],
      "metadata": {
        "colab": {
          "base_uri": "https://localhost:8080/"
        },
        "id": "qiY0kcfiQGzA",
        "outputId": "a197c2d1-57d7-489b-c7c2-120ff804a422"
      },
      "execution_count": null,
      "outputs": [
        {
          "output_type": "execute_result",
          "data": {
            "text/plain": [
              "False"
            ]
          },
          "metadata": {},
          "execution_count": 43
        }
      ]
    },
    {
      "cell_type": "code",
      "source": [
        "def reverseString(s):\n",
        "  left, right=0, len(s)-1\n",
        "  while (left < right):\n",
        "    t=s[left]\n",
        "    s[left]=s[right]\n",
        "    s[right]=t\n",
        "    left+=1\n",
        "    right-=1\n",
        "  return s\n",
        "\n",
        "reverseString(['i'])"
      ],
      "metadata": {
        "colab": {
          "base_uri": "https://localhost:8080/"
        },
        "id": "g3_3LmAtTcpj",
        "outputId": "0c08b7df-c91d-4661-9718-675d83b61bd1"
      },
      "execution_count": null,
      "outputs": [
        {
          "output_type": "execute_result",
          "data": {
            "text/plain": [
              "['i']"
            ]
          },
          "metadata": {},
          "execution_count": 48
        }
      ]
    },
    {
      "cell_type": "code",
      "source": [
        "def squareSort(arr):\n",
        "  left,right=0,len(arr)-1\n",
        "  ans=[]\n",
        "  while (left<=right):\n",
        "    if arr[left]*arr[left] > arr[right]*arr[right]:\n",
        "      ans.append(arr[left]*arr[left])\n",
        "      left+=1\n",
        "    else:\n",
        "      ans.append(arr[right]*arr[right])\n",
        "      right-=1\n",
        "  print(ans[::-1])\n",
        "\n",
        "squareSort([-4,-1,0,3,10])"
      ],
      "metadata": {
        "colab": {
          "base_uri": "https://localhost:8080/"
        },
        "id": "PAZsWh2JYGcj",
        "outputId": "df24e6a0-388e-46d9-d114-a075ce3a495b"
      },
      "execution_count": null,
      "outputs": [
        {
          "output_type": "stream",
          "name": "stdout",
          "text": [
            "[0, 1, 9, 16, 100]\n"
          ]
        }
      ]
    },
    {
      "cell_type": "code",
      "source": [
        "#sliding window\n",
        "def findLongestSubarrayWithSumLETarget(nums, target):\n",
        "  left=right=0\n",
        "  sum=nums[left]\n",
        "  longestLength=0\n",
        "  longestleftIndex=left\n",
        "  #print(left, sum, longestLength, longestleftIndex)\n",
        "  while(left <= right) and(right<len(nums)):\n",
        "    if sum<=target:\n",
        "      print(sum, \"valid\")\n",
        "      if (right-left+1)>longestLength:\n",
        "        longestLength=right-left+1\n",
        "        longestleftIndex=left\n",
        "        print(\"new longest length =\", longestLength)\n",
        "      right +=1\n",
        "      if right < len(nums):\n",
        "        sum+=nums[right]\n",
        "    else:\n",
        "      print(sum, \"invalid\")\n",
        "      sum-=nums[left]\n",
        "      left+=1\n",
        "  print(\"=>\", longestleftIndex, longestLength)\n",
        "\n",
        "#findLongestSubarrayWithSumLETarget([3, 1, 2, 7, 4, 2, 1, 1, 5], 8)\n",
        "findLongestSubarrayWithSumLETarget([1,1,1,1,3,8], 7)"
      ],
      "metadata": {
        "colab": {
          "base_uri": "https://localhost:8080/"
        },
        "id": "tMUq6A7mvHMe",
        "outputId": "c3c8b3d8-edd1-4440-bde5-85461cae42dc"
      },
      "execution_count": null,
      "outputs": [
        {
          "output_type": "stream",
          "name": "stdout",
          "text": [
            "1 valid\n",
            "new longest length = 1\n",
            "2 valid\n",
            "new longest length = 2\n",
            "3 valid\n",
            "new longest length = 3\n",
            "4 valid\n",
            "new longest length = 4\n",
            "7 valid\n",
            "new longest length = 5\n",
            "15 invalid\n",
            "14 invalid\n",
            "13 invalid\n",
            "12 invalid\n",
            "11 invalid\n",
            "8 invalid\n",
            "=> 0 5\n"
          ]
        }
      ]
    },
    {
      "cell_type": "code",
      "source": [
        "#sliding window, double pointer\n",
        "\n",
        "def findLengthOfLongestSubstringWithAtmostOne0(s):\n",
        "  left = zeroes = ans = 0\n",
        "  for right in range(len(s)):\n",
        "    if s[right]==\"0\":\n",
        "      zeroes+=1\n",
        "    while zeroes > 1:\n",
        "      if s[left]==\"0\":\n",
        "        zeroes-=1\n",
        "      left+=1\n",
        "    ans=max(ans, right-left+1)\n",
        "  return ans\n",
        "\n",
        "findLengthOfLongestSubstringWithAtmostOne0(\"110110001\")"
      ],
      "metadata": {
        "colab": {
          "base_uri": "https://localhost:8080/"
        },
        "id": "OvLFmZXffqIu",
        "outputId": "cbe60d0c-ee55-4b78-d801-a983d9692aaa"
      },
      "execution_count": null,
      "outputs": [
        {
          "output_type": "execute_result",
          "data": {
            "text/plain": [
              "5"
            ]
          },
          "metadata": {},
          "execution_count": 2
        }
      ]
    },
    {
      "cell_type": "code",
      "source": [
        "#sliding window, double pointer\n",
        "#Given an integer array nums and an integer k, find the sum of the subarray with the largest sum whose length is k.\n",
        "def findHighestSumInSubarrayOfFixedLength(nums, fixedLength):\n",
        "  ans=0\n",
        "  for i in range(fixedLength):\n",
        "    ans+=nums[i]\n",
        "\n",
        "  newAnswer=ans\n",
        "  for i in range(fixedLength,len(nums)):\n",
        "    newAnswer += nums[i] - nums[i-fixedLength]\n",
        "    ans=max(ans, newAnswer)\n",
        "\n",
        "  return ans\n",
        "\n",
        "findHighestSumInSubarrayOfFixedLength([0,3,4,1,0,9,5], 2)"
      ],
      "metadata": {
        "id": "s5OpKI1-yatH",
        "colab": {
          "base_uri": "https://localhost:8080/"
        },
        "outputId": "f2559f1c-4463-42e7-f707-0985e522b836"
      },
      "execution_count": null,
      "outputs": [
        {
          "output_type": "execute_result",
          "data": {
            "text/plain": [
              "14"
            ]
          },
          "metadata": {},
          "execution_count": 10
        }
      ]
    },
    {
      "cell_type": "code",
      "source": [
        "#sliding window, double pointer\n",
        "#You are given an integer array nums consisting of n elements, and an integer k.\n",
        "#Find a contiguous subarray whose length is equal to k that has the maximum average value and return this value. Any answer with a calculation error less than 10-5 will be accepted.\n",
        "def findHighestAvgInSubarrayOfFixedLength(nums, fixedLength):\n",
        "  ans=0\n",
        "  for i in range(fixedLength):\n",
        "    ans+=nums[i]\n",
        "\n",
        "  newAnswer=ans\n",
        "  for i in range(fixedLength,len(nums)):\n",
        "    newAnswer += nums[i] - nums[i-fixedLength]\n",
        "    ans=max(ans, newAnswer)\n",
        "\n",
        "  return ans/fixedLength\n",
        "\n",
        "findHighestAvgInSubarrayOfFixedLength([0,13,4,1,0,9,5], 2)"
      ],
      "metadata": {
        "colab": {
          "base_uri": "https://localhost:8080/"
        },
        "id": "Asy-lAQhFA8Q",
        "outputId": "8a444a8d-5292-447a-a3bb-0c767e23a2d7"
      },
      "execution_count": null,
      "outputs": [
        {
          "output_type": "execute_result",
          "data": {
            "text/plain": [
              "8.5"
            ]
          },
          "metadata": {},
          "execution_count": 14
        }
      ]
    },
    {
      "cell_type": "code",
      "source": [
        "#sliding window, double pointer\n",
        "#Given a binary array nums and an integer k, return the maximum number of consecutive 1's in the array if you can flip at most k 0's.\n",
        "class Solution:\n",
        "    def findMaxConsecutiveOnesWithAtmostKZeroFlips(self, nums, k) -> int:\n",
        "        zeroes=0; left=0; ans=0;\n",
        "        for right in range(len(nums)):\n",
        "            if nums[right]==0:\n",
        "                zeroes+=1\n",
        "            while zeroes > k:\n",
        "                if nums[left]==0:\n",
        "                    zeroes-=1\n",
        "                left+=1\n",
        "            ans=max(ans,right-left+1)\n",
        "\n",
        "        return ans\n",
        "\n",
        "s=Solution()\n",
        "s.findMaxConsecutiveOnesWithAtmostKZeroFlips([0,0,1,1,0,0,1,1,1,0,1,1,0,0,0,1,1,1,1],k=3)"
      ],
      "metadata": {
        "colab": {
          "base_uri": "https://localhost:8080/"
        },
        "id": "_V2v_SLcMt24",
        "outputId": "15e123fe-f895-4d5e-f3d3-ced93d88db9b"
      },
      "execution_count": null,
      "outputs": [
        {
          "output_type": "execute_result",
          "data": {
            "text/plain": [
              "10"
            ]
          },
          "metadata": {},
          "execution_count": 19
        }
      ]
    },
    {
      "cell_type": "code",
      "source": [
        "def answerQueries(nums, queries, limit):\n",
        "  prefixSum=[nums[0]]\n",
        "  for i in range(1,len(nums)):\n",
        "    prefixSum.append(prefixSum[len(prefixSum)-1] + nums[i])\n",
        "\n",
        "  ans=[]\n",
        "  for i,j in queries:\n",
        "    val=prefixSum[j]-prefixSum[i]+nums[i]\n",
        "    ans.append(val < limit)\n",
        "\n",
        "  return ans\n",
        "\n",
        "answerQueries([1, 6, 3, 2, 7, 2], [[0,3],[2,5],[2,4]], 13)"
      ],
      "metadata": {
        "id": "DQMT-oGlP_XQ",
        "colab": {
          "base_uri": "https://localhost:8080/"
        },
        "outputId": "86cbf6e8-c619-40f6-de2c-7e74ea3f4ce3"
      },
      "execution_count": 3,
      "outputs": [
        {
          "output_type": "execute_result",
          "data": {
            "text/plain": [
              "[True, False, True]"
            ]
          },
          "metadata": {},
          "execution_count": 3
        }
      ]
    },
    {
      "cell_type": "code",
      "source": [
        "#Given an integer array nums, find the number of ways to split the array into two parts so that the first section has a sum greater than or equal to the sum of the second section. The second section should have at least one number.\n",
        "#O(1)\n",
        "def waysToSplitArray(nums):\n",
        "  if len(nums)<2:\n",
        "    return 0\n",
        "\n",
        "  prefixSum=[nums[0]]\n",
        "  for i in range(1,len(nums)):\n",
        "    prefixSum.append(prefixSum[len(prefixSum)-1] + nums[i])\n",
        "\n",
        "  ans=0\n",
        "  for i in range(0, len(nums)-1):\n",
        "    firstPart=prefixSum[i]\n",
        "    secondPart=prefixSum[-1]-prefixSum[i+1]+nums[i+1]\n",
        "    if firstPart>secondPart:\n",
        "      ans+=1\n",
        "\n",
        "  return ans\n",
        "\n",
        "waysToSplitArray([10,4,-8,7])\n",
        "\n",
        "\n"
      ],
      "metadata": {
        "colab": {
          "base_uri": "https://localhost:8080/"
        },
        "id": "RQiM4UR2eDEU",
        "outputId": "ae37432e-b3b2-44da-cce8-69e13b2d706f"
      },
      "execution_count": 7,
      "outputs": [
        {
          "output_type": "execute_result",
          "data": {
            "text/plain": [
              "2"
            ]
          },
          "metadata": {},
          "execution_count": 7
        }
      ]
    },
    {
      "cell_type": "code",
      "source": [
        "#Given an integer array nums, find the number of ways to split the array into two parts so that the first section has a sum greater than or equal to the sum of the second section. The second section should have at least one number.\n",
        "#O(1) space\n",
        "def waysToSplitArray(nums):\n",
        "  if len(nums)<2:\n",
        "    return 0\n",
        "\n",
        "  total=sum(nums)\n",
        "\n",
        "  ans=firstPart=0\n",
        "  for i in range(0, len(nums)-1):\n",
        "    firstPart+=nums[i]\n",
        "    secondPart=total-firstPart\n",
        "    if firstPart>secondPart:\n",
        "      ans+=1\n",
        "\n",
        "  return ans\n",
        "\n",
        "waysToSplitArray([10,4,-8,7])"
      ],
      "metadata": {
        "colab": {
          "base_uri": "https://localhost:8080/"
        },
        "id": "eCZkNKw7gk2p",
        "outputId": "a6a63d99-479d-4dc9-a273-14a281d3e3f2"
      },
      "execution_count": 11,
      "outputs": [
        {
          "output_type": "execute_result",
          "data": {
            "text/plain": [
              "2"
            ]
          },
          "metadata": {},
          "execution_count": 11
        }
      ]
    },
    {
      "cell_type": "code",
      "source": [
        "class Solution:\n",
        "    def runningSum(self, nums):\n",
        "      if len(nums)=0\n",
        "      ans=[0]*len(nums)\n",
        "      ans[0]=nums[0]\n",
        "      for i in range(1,len(nums)):\n",
        "        ans[i]=nums[i]+ans[i-1]\n",
        "      return ans"
      ],
      "metadata": {
        "id": "ZRx_cybZhlQf"
      },
      "execution_count": null,
      "outputs": []
    },
    {
      "cell_type": "code",
      "source": [
        "def minStartValue(nums):\n",
        "  currPrefixSum=lowestPrefixSum=[nums[0]]\n",
        "  for i in range(1,len(nums)):\n",
        "    currPrefixSum+=nums[i]\n",
        "    lowestPrefixSum=min(lowestPrefixSum, currPrefixSum)\n",
        "\n",
        "  return abs(lowestPrefixSum)+1 if lowestPrefixSum<0 else 1\n",
        "\n",
        "#minStartValue([-3,2,-3,4,2])\n",
        "minStartValue([1,-2,-3])\n"
      ],
      "metadata": {
        "colab": {
          "base_uri": "https://localhost:8080/"
        },
        "id": "iFdmEquGm2q4",
        "outputId": "537558d4-1205-4d69-fb49-fcfbfee7f699"
      },
      "execution_count": 15,
      "outputs": [
        {
          "output_type": "execute_result",
          "data": {
            "text/plain": [
              "-2"
            ]
          },
          "metadata": {},
          "execution_count": 15
        }
      ]
    },
    {
      "cell_type": "code",
      "source": [
        "'''\n",
        "You are given a 0-indexed array nums of n integers, and an integer k.\n",
        "The k-radius average for a subarray of nums centered at some index i with the radius k is the average of all elements in nums between the indices i - k and i + k (inclusive).\n",
        "If there are less than k elements before or after the index i, then the k-radius average is -1.\n",
        "Build and return an array avgs of length n where avgs[i] is the k-radius average for the subarray centered at index i.\n",
        "'''\n",
        "\n",
        "def average(nums, prefixSums, i, k):\n",
        "  if (i-k) <0 or (i+k)>len(prefixSums)-1:\n",
        "    return -1\n",
        "  return (prefixSums[i+k]-prefixSums[i-k]+nums[i-k]) // (2*k+1)\n",
        "\n",
        "def getAverages(nums, k):\n",
        "\n",
        "  prefixSums=[nums[0]]\n",
        "  for i in range(1,len(nums)):\n",
        "    prefixSums.append(prefixSums[len(prefixSums)-1] + nums[i])\n",
        "\n",
        "  averages=[]\n",
        "  for i in range(len(nums)):\n",
        "    averages.append(average(nums,prefixSums,i,k))\n",
        "\n",
        "  return averages\n",
        "\n",
        "#getAverages([7,4,3,9,1,8,5,2,6],3)\n",
        "getAverages([1000],100)"
      ],
      "metadata": {
        "colab": {
          "base_uri": "https://localhost:8080/"
        },
        "id": "zCsZd1BR6aTb",
        "outputId": "29e96443-dcc3-41b4-8440-41e002ae6c14"
      },
      "execution_count": 23,
      "outputs": [
        {
          "output_type": "execute_result",
          "data": {
            "text/plain": [
              "[-1]"
            ]
          },
          "metadata": {},
          "execution_count": 23
        }
      ]
    },
    {
      "cell_type": "code",
      "source": [
        "'''\n",
        "You are given a 0-indexed array nums of n integers, and an integer k.\n",
        "The k-radius average for a subarray of nums centered at some index i with the radius k is the average of all elements in nums between the indices i - k and i + k (inclusive).\n",
        "If there are less than k elements before or after the index i, then the k-radius average is -1.\n",
        "Build and return an array avgs of length n where avgs[i] is the k-radius average for the subarray centered at index i.\n",
        "'''\n",
        "\n",
        "def getAverages(nums, k):\n",
        "  n=len(nums)\n",
        "  ans=[-1]*n\n",
        "  if n < (2*k+1):\n",
        "    return ans\n",
        "  prefixSum=sum(nums[0:2*k+1])\n",
        "  for i in range(k, n-k):\n",
        "    ans[i]= prefixSum // (2*k+1)\n",
        "    if (i+k+1)==n:\n",
        "      break\n",
        "    prefixSum=prefixSum-nums[i-k]+nums[i+k+1]\n",
        "  return ans\n",
        "\n",
        "getAverages([7,4,3,9,1,8,5,2,6],2)\n"
      ],
      "metadata": {
        "colab": {
          "base_uri": "https://localhost:8080/"
        },
        "id": "ceFYVltoC2XD",
        "outputId": "935bef67-4c5e-4f64-82e9-b6ce1f4f56c6"
      },
      "execution_count": 62,
      "outputs": [
        {
          "output_type": "execute_result",
          "data": {
            "text/plain": [
              "[-1, -1, 4, 5, 5, 5, 4, -1, -1]"
            ]
          },
          "metadata": {},
          "execution_count": 62
        }
      ]
    },
    {
      "cell_type": "code",
      "source": [
        "class Solution:\n",
        "    def reverseWords(self, s: str) -> str:\n",
        "        words=s.split()\n",
        "        reversedWords=[w[::-1] for w in words]\n",
        "        return ' '.join(reversedWords)\n",
        "\n",
        "s=Solution()\n",
        "s.reverseWords(\"train remain\")"
      ],
      "metadata": {
        "colab": {
          "base_uri": "https://localhost:8080/",
          "height": 35
        },
        "id": "ZuUYI65oN5Gk",
        "outputId": "89370945-933a-42fe-b372-afff1d6edbb4"
      },
      "execution_count": 73,
      "outputs": [
        {
          "output_type": "execute_result",
          "data": {
            "text/plain": [
              "'niart niamer'"
            ],
            "application/vnd.google.colaboratory.intrinsic+json": {
              "type": "string"
            }
          },
          "metadata": {},
          "execution_count": 73
        }
      ]
    },
    {
      "cell_type": "code",
      "source": [
        "s=list(\"trke\")\n",
        "s[0::2]"
      ],
      "metadata": {
        "colab": {
          "base_uri": "https://localhost:8080/"
        },
        "id": "IdjhgEjBiG2K",
        "outputId": "57ada722-8e9c-4011-f1dd-ae5f07496384"
      },
      "execution_count": 78,
      "outputs": [
        {
          "output_type": "execute_result",
          "data": {
            "text/plain": [
              "['t', 'k']"
            ]
          },
          "metadata": {},
          "execution_count": 78
        }
      ]
    },
    {
      "cell_type": "code",
      "source": [
        "class Solution:\n",
        "    def reverseOnlyLetters(self, s: str) -> str:\n",
        "      left=0; right=len(s)-1\n",
        "      chars=list(s)\n",
        "      while (left < right):\n",
        "        if chars[left].isalpha():\n",
        "          if chars[right].isalpha():\n",
        "            chars[left], chars[right]=chars[right], chars[left]\n",
        "            right-=1; left+=1\n",
        "          else:\n",
        "            right-=1\n",
        "        else:\n",
        "          left+=1\n",
        "      return ''.join(chars)\n",
        "\n",
        "s=Solution()\n",
        "s.reverseOnlyLetters(\"a-bC-dEf-ghIj\")\n",
        "\n",
        "#j-Ih-gfE-dCba"
      ],
      "metadata": {
        "colab": {
          "base_uri": "https://localhost:8080/",
          "height": 178
        },
        "id": "tqg0ss2JiiWj",
        "outputId": "e2c93d35-f77a-481b-d096-a0d9329d2a21"
      },
      "execution_count": 86,
      "outputs": [
        {
          "output_type": "stream",
          "name": "stdout",
          "text": [
            "['j', '-', 'b', 'C', '-', 'd', 'E', 'f', '-', 'g', 'h', 'I', 'a']\n",
            "['j', '-', 'b', 'C', '-', 'd', 'E', 'f', '-', 'g', 'h', 'I', 'a']\n",
            "['j', '-', 'I', 'C', '-', 'd', 'E', 'f', '-', 'g', 'h', 'b', 'a']\n",
            "['j', '-', 'I', 'h', '-', 'd', 'E', 'f', '-', 'g', 'C', 'b', 'a']\n",
            "['j', '-', 'I', 'h', '-', 'd', 'E', 'f', '-', 'g', 'C', 'b', 'a']\n",
            "['j', '-', 'I', 'h', '-', 'g', 'E', 'f', '-', 'd', 'C', 'b', 'a']\n",
            "['j', '-', 'I', 'h', '-', 'g', 'E', 'f', '-', 'd', 'C', 'b', 'a']\n",
            "['j', '-', 'I', 'h', '-', 'g', 'f', 'E', '-', 'd', 'C', 'b', 'a']\n"
          ]
        },
        {
          "output_type": "execute_result",
          "data": {
            "text/plain": [
              "'j-Ih-gfE-dCba'"
            ],
            "application/vnd.google.colaboratory.intrinsic+json": {
              "type": "string"
            }
          },
          "metadata": {},
          "execution_count": 86
        }
      ]
    },
    {
      "cell_type": "code",
      "source": [
        "class Solution:\n",
        "    def getCommon(self, nums1, nums2) -> int:\n",
        "      ans=-1\n",
        "      i1=i2=0\n",
        "      while i1<len(nums1) and i2<len(nums2):\n",
        "        if nums1[i1]==nums2[i2]:\n",
        "          return nums1[i1]\n",
        "        elif nums1[i1]<nums2[i2]:\n",
        "          i1+=1\n",
        "        else:\n",
        "          i2+=1\n",
        "      return ans\n",
        "\n",
        "nums1 = [1,2,3,6]; nums2 = [2,3,4,5]\n",
        "Solution().getCommon(nums1, nums2)"
      ],
      "metadata": {
        "colab": {
          "base_uri": "https://localhost:8080/"
        },
        "id": "B1HTCa3xpo0U",
        "outputId": "7648df6e-2553-4655-fb86-28247821ce76"
      },
      "execution_count": 88,
      "outputs": [
        {
          "output_type": "execute_result",
          "data": {
            "text/plain": [
              "2"
            ]
          },
          "metadata": {},
          "execution_count": 88
        }
      ]
    },
    {
      "cell_type": "code",
      "source": [
        "def moveZeroes(nums) -> None:\n",
        "  n=len(nums)\n",
        "  if n>1:\n",
        "      i=0;j=1\n",
        "      while(j<n):\n",
        "          if nums[i]==0 and nums[j]!=0:\n",
        "            nums[i]=nums[j]; i+=1\n",
        "            nums[j]=0; j+=1\n",
        "          elif nums[i]!=0 and nums[j]==0:\n",
        "            i+=1; j+=1\n",
        "          elif nums[i]==0 and nums[j]==0:\n",
        "            j+=1\n",
        "          elif nums[i]!=0 and nums[j]!=0:\n",
        "            i+=1; j+=1\n",
        "  print(nums)\n",
        "\n",
        "moveZeroes([2,1])"
      ],
      "metadata": {
        "colab": {
          "base_uri": "https://localhost:8080/"
        },
        "id": "d_5LNM-xw9PU",
        "outputId": "ac53a40e-0842-4740-fc16-126253796d2d"
      },
      "execution_count": 95,
      "outputs": [
        {
          "output_type": "stream",
          "name": "stdout",
          "text": [
            "[2, 1]\n"
          ]
        }
      ]
    },
    {
      "cell_type": "code",
      "source": [
        "class Solution:\n",
        "    def reversePrefix(self, word: str, ch: str) -> str:\n",
        "      foundIndex=word.find(ch)\n",
        "      if foundIndex>0:\n",
        "        characters=list(word)\n",
        "        i=0;j=foundIndex\n",
        "        while (i<j):\n",
        "          characters[i],characters[j]=characters[j], characters[i]\n",
        "          i+=1; j-=1\n",
        "        return ''.join(characters)\n",
        "      return word\n",
        "\n",
        "Solution().reversePrefix(\"abcdefd\", \"d\")"
      ],
      "metadata": {
        "colab": {
          "base_uri": "https://localhost:8080/",
          "height": 35
        },
        "id": "T2vVOefs0t1T",
        "outputId": "74b62238-b46f-406c-fc4a-d2e875e58afa"
      },
      "execution_count": 99,
      "outputs": [
        {
          "output_type": "execute_result",
          "data": {
            "text/plain": [
              "'dcbaefd'"
            ],
            "application/vnd.google.colaboratory.intrinsic+json": {
              "type": "string"
            }
          },
          "metadata": {},
          "execution_count": 99
        }
      ]
    },
    {
      "cell_type": "code",
      "source": [
        "#Given an array of positive integers nums and a positive integer target, return the minimal length of a subarray\n",
        "#whose sum is greater than or equal to target. If there is no such subarray, return 0 instead.\n",
        "\n",
        "def sumOfSubarray(prefixSums, nums, left, right):\n",
        "  return prefixSums[right] - prefixSums[left] + nums[left]\n",
        "\n",
        "class Solution:\n",
        "    def minSubArrayLen(self, target, nums) -> int:\n",
        "      n=len(nums)\n",
        "      prefixSums=[nums[0]]\n",
        "\n",
        "      for i in range(1,n):\n",
        "        prefixSums.append(prefixSums[len(prefixSums)-1]+nums[i])\n",
        "\n",
        "      left=0; ans=n+1\n",
        "\n",
        "      for right in range(n):\n",
        "        if sumOfSubarray(prefixSums, nums, left, right) >=target:\n",
        "          ans=min(ans, right-left+1)\n",
        "          while left<=right and sumOfSubarray(prefixSums, nums, left, right) >= target :\n",
        "            ans=min(ans, right-left+1)\n",
        "            left+=1\n",
        "\n",
        "      return 0 if ans==n+1 else ans\n",
        "\n",
        "#Solution().minSubArrayLen(7,[2,3,1,2,4,3])\n",
        "#Solution().minSubArrayLen(4,[1,4,4])\n",
        "#Solution().minSubArrayLen(11,[1,1,1,1,1,1,1,1])\n",
        "#Solution().minSubArrayLen(15,[1,2,3,4,5])\n",
        "Solution().minSubArrayLen(80,[10,5,13,4,8,4,5,11,14,9,16,10,20,8])\n"
      ],
      "metadata": {
        "colab": {
          "base_uri": "https://localhost:8080/"
        },
        "id": "xhONROMV5zqr",
        "outputId": "3e589261-40de-434f-bc4d-54224b9adc2f"
      },
      "execution_count": 34,
      "outputs": [
        {
          "output_type": "execute_result",
          "data": {
            "text/plain": [
              "6"
            ]
          },
          "metadata": {},
          "execution_count": 34
        }
      ]
    }
  ]
}